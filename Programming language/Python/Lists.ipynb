{
 "cells": [
  {
   "cell_type": "markdown",
   "metadata": {},
   "source": [
    "Creating Multiple Lists for different operations"
   ]
  },
  {
   "cell_type": "code",
   "execution_count": 1,
   "metadata": {},
   "outputs": [],
   "source": [
    "main            = [1,2,3,4,5,6,7,8,9,10]\n",
    "list_append     = []\n",
    "list_insert     = []\n",
    "list_remove     = []\n",
    "list_pop        = []\n",
    "list_clear      = []\n",
    "list_index      = []\n",
    "list_count      = []\n",
    "list_sort       = []\n",
    "list_reverse    = []\n",
    "list_count      = []\n",
    "list_copy       = []\n"
   ]
  },
  {
   "cell_type": "markdown",
   "metadata": {},
   "source": [
    "Using appending to add elements to end of list"
   ]
  },
  {
   "cell_type": "code",
   "execution_count": 2,
   "metadata": {},
   "outputs": [
    {
     "data": {
      "text/plain": [
       "[50]"
      ]
     },
     "execution_count": 2,
     "metadata": {},
     "output_type": "execute_result"
    }
   ],
   "source": [
    "list_append.append(50)\n",
    "list_append"
   ]
  },
  {
   "cell_type": "markdown",
   "metadata": {},
   "source": [
    "Using Insert to add element at specific position"
   ]
  },
  {
   "cell_type": "code",
   "execution_count": 3,
   "metadata": {},
   "outputs": [
    {
     "name": "stdout",
     "output_type": "stream",
     "text": [
      "main before : [1, 2, 3, 4, 5, 6, 7, 8, 9, 10]\n",
      "main after : [1, 2, 3, 4, 5, 20, 6, 7, 8, 9, 10]\n",
      "List_insert: [1, 2, 3, 4, 5, 20, 6, 7, 8, 9, 10]\n"
     ]
    }
   ],
   "source": [
    "print(\"main before :\",main)\n",
    "main.insert(5,20)\n",
    "list_insert = main\n",
    "# main after\n",
    "main\n",
    "print(\"main after :\",main)\n",
    "print(\"List_insert:\",list_insert)"
   ]
  },
  {
   "cell_type": "markdown",
   "metadata": {},
   "source": [
    "Using Remove to remove the first element specified"
   ]
  },
  {
   "cell_type": "code",
   "execution_count": 4,
   "metadata": {},
   "outputs": [
    {
     "name": "stdout",
     "output_type": "stream",
     "text": [
      "List_remove:  [5, 7, 8]\n"
     ]
    }
   ],
   "source": [
    "list_remove = [5,6,7,8]\n",
    "list_remove.remove(6)\n",
    "print(\"List_remove: \",list_remove)"
   ]
  },
  {
   "cell_type": "markdown",
   "metadata": {},
   "source": [
    "Using pop to remove either specified index or the last element and RETURN it"
   ]
  },
  {
   "cell_type": "code",
   "execution_count": 5,
   "metadata": {},
   "outputs": [
    {
     "name": "stdout",
     "output_type": "stream",
     "text": [
      "main:  [1, 2, 3, 4, 5, 20, 6, 7, 8, 9, 10]\n",
      "check the difference\n",
      "list_pop:  [1, 2, 3, 4, 5, 20, 6, 7, 9, 10]\n"
     ]
    }
   ],
   "source": [
    "print(\"main: \",main)\n",
    "list_pop = main\n",
    "list_pop.pop(8) #removes 8th position from list\n",
    "print(\"check the difference\")\n",
    "print(\"list_pop: \",list_pop)"
   ]
  },
  {
   "cell_type": "markdown",
   "metadata": {},
   "source": [
    "using clear to clear the total list"
   ]
  },
  {
   "cell_type": "code",
   "execution_count": 6,
   "metadata": {},
   "outputs": [
    {
     "name": "stdout",
     "output_type": "stream",
     "text": [
      "list_clear:  [4, 5, 6, 7, 8]\n",
      "list_clear:  []\n"
     ]
    }
   ],
   "source": [
    "list_clear = [4,5,6,7,8]\n",
    "print(\"list_clear: \", list_clear)\n",
    "list_clear.clear()\n",
    "print(\"list_clear: \", list_clear)"
   ]
  },
  {
   "cell_type": "markdown",
   "metadata": {},
   "source": [
    "using index to return the first value equal to the specified"
   ]
  },
  {
   "cell_type": "code",
   "execution_count": 7,
   "metadata": {},
   "outputs": [
    {
     "data": {
      "text/plain": [
       "5"
      ]
     },
     "execution_count": 7,
     "metadata": {},
     "output_type": "execute_result"
    }
   ],
   "source": [
    "list_index = main\n",
    "list_index\n",
    "list_index.index(20)"
   ]
  },
  {
   "cell_type": "markdown",
   "metadata": {},
   "source": [
    "using Count to return the occurence of an element in list"
   ]
  },
  {
   "cell_type": "code",
   "execution_count": 8,
   "metadata": {},
   "outputs": [
    {
     "data": {
      "text/plain": [
       "1"
      ]
     },
     "execution_count": 8,
     "metadata": {},
     "output_type": "execute_result"
    }
   ],
   "source": [
    "list_count = main\n",
    "list_count.count(20)"
   ]
  },
  {
   "cell_type": "markdown",
   "metadata": {},
   "source": [
    "Using Sort to sort on Ascending order, REVERSE is set to TRUE for Descending"
   ]
  },
  {
   "cell_type": "code",
   "execution_count": 22,
   "metadata": {},
   "outputs": [
    {
     "name": "stdout",
     "output_type": "stream",
     "text": [
      "list_sort:  [1, 2, 3, 4, 5, 6, 7, 9, 10, 20]\n",
      "list_sort:  [1, 2, 3, 4, 5, 6, 7, 9, 10, 20]\n"
     ]
    }
   ],
   "source": [
    "list_sort = main\n",
    "print(\"list_sort: \", list_sort)\n",
    "list_sort.sort()\n",
    "\n",
    "\n",
    "print(\"list_sort: \", list_sort)\n",
    "# print(\"list_sort2: \", list_sort2)\n",
    "\n",
    "# 20 is moved to last"
   ]
  },
  {
   "cell_type": "markdown",
   "metadata": {},
   "source": [
    "Using Reverse, reverses the element in place\n"
   ]
  },
  {
   "cell_type": "code",
   "execution_count": 12,
   "metadata": {},
   "outputs": [
    {
     "name": "stdout",
     "output_type": "stream",
     "text": [
      "list_reverse:  [1, 2, 3, 4, 5, 6, 7, 9, 10, 20]\n",
      "list_reverse:  [20, 10, 9, 7, 6, 5, 4, 3, 2, 1]\n"
     ]
    }
   ],
   "source": [
    "list_reverse = main\n",
    "print(\"list_reverse: \", list_reverse)\n",
    "list_reverse.reverse()\n",
    "print(\"list_reverse: \", list_reverse)"
   ]
  },
  {
   "cell_type": "markdown",
   "metadata": {},
   "source": [
    "Using Copy just returns a copy of the list"
   ]
  },
  {
   "cell_type": "code",
   "execution_count": 14,
   "metadata": {},
   "outputs": [
    {
     "data": {
      "text/plain": [
       "[20, 10, 9, 7, 6, 5, 4, 3, 2, 1]"
      ]
     },
     "execution_count": 14,
     "metadata": {},
     "output_type": "execute_result"
    }
   ],
   "source": [
    "list_copy = main\n",
    "print(\"list_copy: \", list_copy)\n",
    "list_copy.copy()\n",
    "print(\"list_copy: \", list_copy)"
   ]
  }
 ],
 "metadata": {
  "kernelspec": {
   "display_name": "Python 3",
   "language": "python",
   "name": "python3"
  },
  "language_info": {
   "codemirror_mode": {
    "name": "ipython",
    "version": 3
   },
   "file_extension": ".py",
   "mimetype": "text/x-python",
   "name": "python",
   "nbconvert_exporter": "python",
   "pygments_lexer": "ipython3",
   "version": "3.9.0"
  },
  "orig_nbformat": 4
 },
 "nbformat": 4,
 "nbformat_minor": 2
}
